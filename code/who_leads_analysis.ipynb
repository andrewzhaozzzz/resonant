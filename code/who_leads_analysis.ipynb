{
 "cells": [
  {
   "cell_type": "code",
   "execution_count": 1,
   "metadata": {},
   "outputs": [],
   "source": [
    "import h5py\n",
    "import pandas as pd\n",
    "import numpy as np\n",
    "from sklearn.metrics.pairwise import cosine_similarity"
   ]
  },
  {
   "cell_type": "code",
   "execution_count": 12,
   "metadata": {},
   "outputs": [
    {
     "name": "stdout",
     "output_type": "stream",
     "text": [
      "Keys: <KeysViewHDF5 ['date', 'embeddings', 'post_text', 'user_type']>\n",
      "output: 38\n"
     ]
    },
    {
     "ename": "TypeError",
     "evalue": "'int' object is not subscriptable",
     "output_type": "error",
     "traceback": [
      "\u001b[0;31m---------------------------------------------------------------------------\u001b[0m",
      "\u001b[0;31mTypeError\u001b[0m                                 Traceback (most recent call last)",
      "\u001b[0;32m<ipython-input-12-add2952e7d84>\u001b[0m in \u001b[0;36m<module>\u001b[0;34m\u001b[0m\n\u001b[1;32m     17\u001b[0m     \u001b[0;31m# Optionally, read a subset of embeddings into memory\u001b[0m\u001b[0;34m\u001b[0m\u001b[0;34m\u001b[0m\u001b[0;34m\u001b[0m\u001b[0m\n\u001b[1;32m     18\u001b[0m     \u001b[0;31m# Here, we read the first 5 embeddings\u001b[0m\u001b[0;34m\u001b[0m\u001b[0;34m\u001b[0m\u001b[0;34m\u001b[0m\u001b[0m\n\u001b[0;32m---> 19\u001b[0;31m     \u001b[0mfirst_five_embeddings\u001b[0m \u001b[0;34m=\u001b[0m \u001b[0membeddings\u001b[0m\u001b[0;34m[\u001b[0m\u001b[0;34m:\u001b[0m\u001b[0;36m5\u001b[0m\u001b[0;34m]\u001b[0m\u001b[0;34m\u001b[0m\u001b[0;34m\u001b[0m\u001b[0m\n\u001b[0m\u001b[1;32m     20\u001b[0m     \u001b[0;31m# last five embeddings\u001b[0m\u001b[0;34m\u001b[0m\u001b[0;34m\u001b[0m\u001b[0;34m\u001b[0m\u001b[0m\n\u001b[1;32m     21\u001b[0m     \u001b[0mprint\u001b[0m\u001b[0;34m(\u001b[0m\u001b[0;34m\"First five embeddings:\\n\"\u001b[0m\u001b[0;34m,\u001b[0m \u001b[0mfirst_five_embeddings\u001b[0m\u001b[0;34m)\u001b[0m\u001b[0;34m\u001b[0m\u001b[0;34m\u001b[0m\u001b[0m\n",
      "\u001b[0;31mTypeError\u001b[0m: 'int' object is not subscriptable"
     ]
    }
   ],
   "source": [
    "# examine the format of the HDF5 file\n",
    "\n",
    "# Path to the HDF5 file\n",
    "hdf5_file_path = '../model/who_leads_model_final/who_leads_model_embeddings.h5'\n",
    "\n",
    "chunk_size = 50000\n",
    "\n",
    "# Open the HDF5 file in read mode\n",
    "with h5py.File(hdf5_file_path, 'r') as file:\n",
    "    # List all groups\n",
    "    print(\"Keys: %s\" % file.keys())\n",
    "    # Get the embeddings dataset\n",
    "    embeddings = file['embeddings'].shape[0]//chunk_size\n",
    "    print('output:', embeddings)\n",
    "    # print(\"Shape of embeddings:\", embeddings.shape)\n",
    "    \n",
    "    # Optionally, read a subset of embeddings into memory\n",
    "    # Here, we read the first 5 embeddings\n",
    "    first_five_embeddings = embeddings[:5]\n",
    "    # last five embeddings\n",
    "    print(\"First five embeddings:\\n\", first_five_embeddings)\n",
    "    # print(\"Last five embeddings:\\n\", last_five_embeddings)"
   ]
  },
  {
   "cell_type": "code",
   "execution_count": 6,
   "metadata": {},
   "outputs": [
    {
     "data": {
      "text/html": [
       "<div>\n",
       "<style scoped>\n",
       "    .dataframe tbody tr th:only-of-type {\n",
       "        vertical-align: middle;\n",
       "    }\n",
       "\n",
       "    .dataframe tbody tr th {\n",
       "        vertical-align: top;\n",
       "    }\n",
       "\n",
       "    .dataframe thead th {\n",
       "        text-align: right;\n",
       "    }\n",
       "</style>\n",
       "<table border=\"1\" class=\"dataframe\">\n",
       "  <thead>\n",
       "    <tr style=\"text-align: right;\">\n",
       "      <th></th>\n",
       "      <th>user_type</th>\n",
       "      <th>date</th>\n",
       "      <th>post_text</th>\n",
       "      <th>embeddings</th>\n",
       "    </tr>\n",
       "  </thead>\n",
       "  <tbody>\n",
       "    <tr>\n",
       "      <th>0</th>\n",
       "      <td>media</td>\n",
       "      <td>2014-03-04</td>\n",
       "      <td>Yemen drone strikes, ambushes kill 10 http://t...</td>\n",
       "      <td>[[tensor(3.5884)]]</td>\n",
       "    </tr>\n",
       "    <tr>\n",
       "      <th>1</th>\n",
       "      <td>media</td>\n",
       "      <td>2014-03-04</td>\n",
       "      <td>Former Georgian Pres. Saakashvili: \"I have dej...</td>\n",
       "      <td>[[tensor(3.5923)]]</td>\n",
       "    </tr>\n",
       "    <tr>\n",
       "      <th>2</th>\n",
       "      <td>media</td>\n",
       "      <td>2014-03-04</td>\n",
       "      <td>Sen. John McCain: Crimea 'may be' lost to Russ...</td>\n",
       "      <td>[[tensor(3.5948)]]</td>\n",
       "    </tr>\n",
       "    <tr>\n",
       "      <th>3</th>\n",
       "      <td>media</td>\n",
       "      <td>2014-03-04</td>\n",
       "      <td>.@AmericaTonight has pulled together some of t...</td>\n",
       "      <td>[[tensor(3.5898)]]</td>\n",
       "    </tr>\n",
       "    <tr>\n",
       "      <th>4</th>\n",
       "      <td>media</td>\n",
       "      <td>2014-03-04</td>\n",
       "      <td>Photos: Scenes from the start of the 1,000-mil...</td>\n",
       "      <td>[[tensor(3.5936)]]</td>\n",
       "    </tr>\n",
       "    <tr>\n",
       "      <th>...</th>\n",
       "      <td>...</td>\n",
       "      <td>...</td>\n",
       "      <td>...</td>\n",
       "      <td>...</td>\n",
       "    </tr>\n",
       "    <tr>\n",
       "      <th>95</th>\n",
       "      <td>media</td>\n",
       "      <td>2014-03-04</td>\n",
       "      <td>RT @CBSThisMorning: Your world in 90 seconds. ...</td>\n",
       "      <td>[[tensor(3.5949)]]</td>\n",
       "    </tr>\n",
       "    <tr>\n",
       "      <th>96</th>\n",
       "      <td>media</td>\n",
       "      <td>2014-03-04</td>\n",
       "      <td>Watch Live: Sec. John Kerry addresses the situ...</td>\n",
       "      <td>[[tensor(3.5924)]]</td>\n",
       "    </tr>\n",
       "    <tr>\n",
       "      <th>97</th>\n",
       "      <td>media</td>\n",
       "      <td>2014-03-04</td>\n",
       "      <td>Putin reportedly ends war games in western Rus...</td>\n",
       "      <td>[[tensor(3.5946)]]</td>\n",
       "    </tr>\n",
       "    <tr>\n",
       "      <th>98</th>\n",
       "      <td>media</td>\n",
       "      <td>2014-03-04</td>\n",
       "      <td>It's been years since the Chinese government h...</td>\n",
       "      <td>[[tensor(3.5919)]]</td>\n",
       "    </tr>\n",
       "    <tr>\n",
       "      <th>99</th>\n",
       "      <td>media</td>\n",
       "      <td>2014-03-04</td>\n",
       "      <td>BREAKING: As John Kerry arrives in Ukraine, St...</td>\n",
       "      <td>[[tensor(3.5862)]]</td>\n",
       "    </tr>\n",
       "  </tbody>\n",
       "</table>\n",
       "<p>100 rows × 4 columns</p>\n",
       "</div>"
      ],
      "text/plain": [
       "   user_type        date                                          post_text  \\\n",
       "0      media  2014-03-04  Yemen drone strikes, ambushes kill 10 http://t...   \n",
       "1      media  2014-03-04  Former Georgian Pres. Saakashvili: \"I have dej...   \n",
       "2      media  2014-03-04  Sen. John McCain: Crimea 'may be' lost to Russ...   \n",
       "3      media  2014-03-04  .@AmericaTonight has pulled together some of t...   \n",
       "4      media  2014-03-04  Photos: Scenes from the start of the 1,000-mil...   \n",
       "..       ...         ...                                                ...   \n",
       "95     media  2014-03-04  RT @CBSThisMorning: Your world in 90 seconds. ...   \n",
       "96     media  2014-03-04  Watch Live: Sec. John Kerry addresses the situ...   \n",
       "97     media  2014-03-04  Putin reportedly ends war games in western Rus...   \n",
       "98     media  2014-03-04  It's been years since the Chinese government h...   \n",
       "99     media  2014-03-04  BREAKING: As John Kerry arrives in Ukraine, St...   \n",
       "\n",
       "            embeddings  \n",
       "0   [[tensor(3.5884)]]  \n",
       "1   [[tensor(3.5923)]]  \n",
       "2   [[tensor(3.5948)]]  \n",
       "3   [[tensor(3.5898)]]  \n",
       "4   [[tensor(3.5936)]]  \n",
       "..                 ...  \n",
       "95  [[tensor(3.5949)]]  \n",
       "96  [[tensor(3.5924)]]  \n",
       "97  [[tensor(3.5946)]]  \n",
       "98  [[tensor(3.5919)]]  \n",
       "99  [[tensor(3.5862)]]  \n",
       "\n",
       "[100 rows x 4 columns]"
      ]
     },
     "execution_count": 6,
     "metadata": {},
     "output_type": "execute_result"
    }
   ],
   "source": [
    "model"
   ]
  },
  {
   "cell_type": "code",
   "execution_count": 5,
   "metadata": {},
   "outputs": [
    {
     "data": {
      "text/plain": [
       "tensor([[3.5884]])"
      ]
     },
     "execution_count": 5,
     "metadata": {},
     "output_type": "execute_result"
    }
   ],
   "source": [
    "model['embeddings'][0]"
   ]
  }
 ],
 "metadata": {
  "kernelspec": {
   "display_name": "base",
   "language": "python",
   "name": "python3"
  },
  "language_info": {
   "codemirror_mode": {
    "name": "ipython",
    "version": 3
   },
   "file_extension": ".py",
   "mimetype": "text/x-python",
   "name": "python",
   "nbconvert_exporter": "python",
   "pygments_lexer": "ipython3",
   "version": "3.8.8"
  },
  "orig_nbformat": 4
 },
 "nbformat": 4,
 "nbformat_minor": 2
}
